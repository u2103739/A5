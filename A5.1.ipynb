{
 "cells": [
  {
   "cell_type": "code",
   "execution_count": null,
   "id": "7c5e1d51",
   "metadata": {},
   "outputs": [
    {
     "name": "stdout",
     "output_type": "stream",
     "text": [
      "43\n",
      "-3 -3\n"
     ]
    }
   ],
   "source": [
    "import math\n",
    "\n",
    "def numspiral(n):\n",
    "    a = math.ceil((math.sqrt(n) - 1) / 2)\n",
    "    t = 2 * a + 1\n",
    "    m = t**2\n",
    "    t = t - 1\n",
    "    if n >= m - t:\n",
    "        print(a - (m - n), -a)\n",
    "        return\n",
    "    else:\n",
    "        m = m - t\n",
    "    if n >= m - t:\n",
    "        print(-a, -a + (m - n))\n",
    "        return\n",
    "    else:\n",
    "        m = m - t\n",
    "    if n >= m - t:\n",
    "        print(-a + (m - n), a)\n",
    "        return\n",
    "    else:\n",
    "        print(a, a - (m - n - t))\n",
    "        return\n",
    "\n",
    "while True:\n",
    "    try:\n",
    "        n = int(input())\n",
    "        numspiral(n)\n",
    "        \n",
    "        #Getting \"EOFerror when running so needed to add an option to break\"\n",
    "    except EOFError:\n",
    "        break\n",
    "    #Not sure why but need to restart kernal sometimes to prompt user input."
   ]
  },
  {
   "cell_type": "code",
   "execution_count": null,
   "id": "9c8af128",
   "metadata": {},
   "outputs": [],
   "source": []
  }
 ],
 "metadata": {
  "kernelspec": {
   "display_name": "Python 3 (ipykernel)",
   "language": "python",
   "name": "python3"
  },
  "language_info": {
   "codemirror_mode": {
    "name": "ipython",
    "version": 3
   },
   "file_extension": ".py",
   "mimetype": "text/x-python",
   "name": "python",
   "nbconvert_exporter": "python",
   "pygments_lexer": "ipython3",
   "version": "3.9.7"
  }
 },
 "nbformat": 4,
 "nbformat_minor": 5
}
